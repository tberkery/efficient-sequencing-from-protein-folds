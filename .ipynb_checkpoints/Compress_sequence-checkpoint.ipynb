{
 "cells": [
  {
   "cell_type": "markdown",
   "id": "88d75402",
   "metadata": {},
   "source": [
    "# Compress Protein Folding Sequence to Non-repeating letters"
   ]
  },
  {
   "cell_type": "code",
   "execution_count": null,
   "id": "ed916831",
   "metadata": {},
   "outputs": [],
   "source": [
    "def compress_sequence(fileName):\n",
    "    with open(fileName, 'r') as ifile:\n",
    "        seq = ifile.read()\n",
    "    print(seq)\n",
    "    \n"
   ]
  }
 ],
 "metadata": {
  "kernelspec": {
   "display_name": "Python 3 (ipykernel)",
   "language": "python",
   "name": "python3"
  },
  "language_info": {
   "codemirror_mode": {
    "name": "ipython",
    "version": 3
   },
   "file_extension": ".py",
   "mimetype": "text/x-python",
   "name": "python",
   "nbconvert_exporter": "python",
   "pygments_lexer": "ipython3",
   "version": "3.9.13"
  }
 },
 "nbformat": 4,
 "nbformat_minor": 5
}
